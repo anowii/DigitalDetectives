{
 "cells": [
  {
   "cell_type": "code",
   "execution_count": null,
   "metadata": {},
   "outputs": [],
   "source": [
    "import os\n",
    "import textwrap\n",
    "from pyrit.common.path import DATASETS_PATH\n",
    "\n",
    "from pyrit.prompt_target import OllamaChatTarget, OpenAIChatTarget\n",
    "from pyrit.orchestrator import RedTeamingOrchestrator\n",
    "from pyrit.common import default_values\n",
    "from pyrit.score import SelfAskTrueFalseScorer, TrueFalseQuestionPaths\n",
    "from pyrit.models import AttackStrategy\n",
    "\n",
    "default_values.load_default_env()"
   ]
  },
  {
   "cell_type": "code",
   "execution_count": null,
   "metadata": {},
   "outputs": [],
   "source": [
    "oai_chat = OpenAIChatTarget(\n",
    "deployment_name=\"gpt-4o-mini-2024-07-18\",\n",
    "endpoint=\"https://api.openai.com/v1/\",\n",
    "api_key=\"OPENAI_API_KEY\",\n",
    ")\n",
    "ollama_chat = OllamaChatTarget(\n",
    "endpoint_uri=\"http://127.0.0.1:11434/api/chat\",\n",
    "model_name=\"llama3.2\"\n",
    ")"
   ]
  }
 ],
 "metadata": {
  "kernelspec": {
   "display_name": "base",
   "language": "python",
   "name": "python3"
  },
  "language_info": {
   "name": "python",
   "version": "3.12.7"
  }
 },
 "nbformat": 4,
 "nbformat_minor": 2
}
